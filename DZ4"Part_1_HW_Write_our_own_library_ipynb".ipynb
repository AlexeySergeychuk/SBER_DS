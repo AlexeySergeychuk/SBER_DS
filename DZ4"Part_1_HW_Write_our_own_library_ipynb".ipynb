{
  "nbformat": 4,
  "nbformat_minor": 0,
  "metadata": {
    "colab": {
      "name": "DZ4\"Part_1_HW_Write_our_own_library.ipynb\"",
      "provenance": [],
      "collapsed_sections": [],
      "toc_visible": true,
      "include_colab_link": true
    },
    "kernelspec": {
      "name": "python3",
      "display_name": "Python 3"
    }
  },
  "cells": [
    {
      "cell_type": "markdown",
      "metadata": {
        "id": "view-in-github",
        "colab_type": "text"
      },
      "source": [
        "<a href=\"https://colab.research.google.com/github/AlexeySergeychuk/SBER_DS/blob/main/DZ4%22Part_1_HW_Write_our_own_library_ipynb%22.ipynb\" target=\"_parent\"><img src=\"https://colab.research.google.com/assets/colab-badge.svg\" alt=\"Open In Colab\"/></a>"
      ]
    },
    {
      "cell_type": "markdown",
      "metadata": {
        "id": "-PkQ9hSoulSP"
      },
      "source": [
        "## Домашнее задание. Часть 1.\n",
        "\n",
        "- напишем свою собственную библиотеку\n",
        "\n",
        "Вего за эту часть ДЗ можно набрать максимум **11.5 баллов**. Разбиение баллов по каждой из задач представлено непосредственно перед текстом каждой задачи.\n",
        "\n",
        "**Дедлайн - пятница, 11.12.2020 в 23:59.**\n",
        "\n",
        "Дедлайн жесткий, сдача после дедлайна - 0 баллов за ДЗ."
      ]
    },
    {
      "cell_type": "markdown",
      "metadata": {
        "id": "raMUrDs_OUUp"
      },
      "source": [
        "Ссылка на ноутбук в колабе: https://colab.research.google.com/drive/1LgWtESFmiNW1WlVFCHKyNl_BxAWxoL3Z?usp=sharing"
      ]
    },
    {
      "cell_type": "markdown",
      "metadata": {
        "id": "DlJPKMxvBZDq"
      },
      "source": [
        "Допустим мы хотим написать фнкцию, которая складывает 2 числа и сохранить ее в отдельный .py файл. Пример:"
      ]
    },
    {
      "cell_type": "code",
      "metadata": {
        "colab": {
          "base_uri": "https://localhost:8080/"
        },
        "id": "YWxx_tJFBWXc",
        "outputId": "1826d620-5a25-4eba-e8b2-c8ffb42c6c6e"
      },
      "source": [
        "%%writefile lib.py\n",
        "def summ(a1, b1):\n",
        "    return a1+b1"
      ],
      "execution_count": null,
      "outputs": [
        {
          "output_type": "stream",
          "text": [
            "Writing lib.py\n"
          ],
          "name": "stdout"
        }
      ]
    },
    {
      "cell_type": "code",
      "metadata": {
        "id": "GpwqwV2XBWe0"
      },
      "source": [
        "from lib import summ"
      ],
      "execution_count": null,
      "outputs": []
    },
    {
      "cell_type": "code",
      "metadata": {
        "colab": {
          "base_uri": "https://localhost:8080/"
        },
        "id": "PdSwrEkYud_1",
        "outputId": "8ca5a226-1b96-4a6f-f558-9591c1f0b4c3"
      },
      "source": [
        "summ(2,6)"
      ],
      "execution_count": null,
      "outputs": [
        {
          "output_type": "execute_result",
          "data": {
            "text/plain": [
              "8"
            ]
          },
          "metadata": {
            "tags": []
          },
          "execution_count": 3
        }
      ]
    },
    {
      "cell_type": "markdown",
      "metadata": {
        "id": "lzVEq6dcB_B6"
      },
      "source": [
        "Попробуем запустить через \"терминал\""
      ]
    },
    {
      "cell_type": "code",
      "metadata": {
        "id": "GnvjY52dB9F0"
      },
      "source": [
        "!python3 lib.py"
      ],
      "execution_count": null,
      "outputs": []
    },
    {
      "cell_type": "markdown",
      "metadata": {
        "id": "12k4C-iDCGD5"
      },
      "source": [
        "Ничего не происходит. А теперь добавим `if __name__ == \"__main__\"` в наш код и пересохраним файл lib.py"
      ]
    },
    {
      "cell_type": "code",
      "metadata": {
        "colab": {
          "base_uri": "https://localhost:8080/"
        },
        "id": "EXxDy4EoujyT",
        "outputId": "7d9b465f-3e6a-40ab-d5ca-1af0ab92c3cd"
      },
      "source": [
        "%%writefile lib.py\n",
        "import sys\n",
        "\n",
        "a1 = float( sys.argv[1] ) # Считываем аргументы прямо из терминала\n",
        "b1 = float( sys.argv[2] ) # Считываем аргументы прямо из терминала\n",
        "\n",
        "def summ(a1, b1):\n",
        "    return a1+b1\n",
        "\n",
        "if __name__ == \"__main__\":\n",
        "    print(summ(a1, b1))\n"
      ],
      "execution_count": null,
      "outputs": [
        {
          "output_type": "stream",
          "text": [
            "Writing lib.py\n"
          ],
          "name": "stdout"
        }
      ]
    },
    {
      "cell_type": "code",
      "metadata": {
        "colab": {
          "base_uri": "https://localhost:8080/"
        },
        "id": "9kg9IKcWuj1F",
        "outputId": "1f5e3d9f-f24d-4ca7-8531-99c26667218c"
      },
      "source": [
        "!python3 lib.py 2 4"
      ],
      "execution_count": null,
      "outputs": [
        {
          "output_type": "stream",
          "text": [
            "6.0\n"
          ],
          "name": "stdout"
        }
      ]
    },
    {
      "cell_type": "markdown",
      "metadata": {
        "id": "MEQd0OJnD4ut"
      },
      "source": [
        "# **Задание 1**\n",
        "\n",
        "Реализуйте следующие функции и сохраните их в библиотеку **my_math_lib.py** (пока без использования конструкции `if __name__ == \"__main__\"`)"
      ]
    },
    {
      "cell_type": "markdown",
      "metadata": {
        "id": "-irvYNmrD9FA"
      },
      "source": [
        "**1 point** \n",
        "1. **def deg_to_rad()**. Напишите программу на Python для преобразования градусов в радианы.  *(Note: Радиан - это стандартная единица измерения угла, используемая во многих областях математики. Измерение угла в радианах численно равно длине соответствующей дуги единичного круга; один радиан чуть меньше 57,3 градуса)* **1 point**\n",
        "\n",
        "**1 point** \n",
        "2. **def rad_to_def()**. Напишите программу Python для преобразования радианов в градусы.\n",
        "\n",
        "**1.5 point** \n",
        "3. **def discriminant()**. Напишите программу на Python для вычисления значения дискриминанта (вспоминаем квадратные уравнения). Входные данные три числа: x, y, z (учтите что корни могут быть комлЕксными!)\n",
        "\n",
        "**1.5 point** \n",
        "4. **def power_base_sum()**. Напишите программу на Python, чтобы вычислить сумму всех цифр основания в указанной степени.\n",
        "\n",
        "Пример: power_base_sum(2, 100)\n",
        "\n",
        "Выход: 115\n",
        "\n",
        "\n",
        "\n",
        "**2 point** \n",
        "5. **def magic_square()**. Напишите программу на Python для вычисления [магического квадрата](https://ru.wikipedia.org/wiki/Магический_квадрат)\n",
        "\n",
        "Note:\n",
        "\n",
        "Магический, или волшебный квадрат — это квадратная таблица , заполненная числами таким образом, что сумма чисел в каждой строке, каждом столбце и на обеих диагоналях одинакова. Сумма чисел в каждой строке, столбце и на диагоналях, называется магической константой, M.\n",
        "\n",
        "**1 point** \n",
        "6. **def mult_list()**. Напишите функцию Python для умножения всех чисел в массиве list(), (размер листа на входе произвольный)\n",
        "\n",
        "**1 point** \n",
        "7. **def create_list()**. Напишите функцию Python для создания и вывода списка (при помощи print()), в котором значения представляют собой квадрат чисел от 1 до 30 (оба включительно)."
      ]
    },
    {
      "cell_type": "code",
      "metadata": {
        "id": "cxjYPNRAIBqe",
        "colab": {
          "base_uri": "https://localhost:8080/"
        },
        "outputId": "3e2827d3-8d21-49b9-fa66-b8871513e188"
      },
      "source": [
        "\r\n",
        "def deg_to_rad(grad):\r\n",
        "  from math import pi\r\n",
        "  x = (grad * pi)/ 180\r\n",
        "  return x\r\n",
        "deg_to_rad(47)"
      ],
      "execution_count": null,
      "outputs": [
        {
          "output_type": "execute_result",
          "data": {
            "text/plain": [
              "0.8203047484373349"
            ]
          },
          "metadata": {
            "tags": []
          },
          "execution_count": 35
        }
      ]
    },
    {
      "cell_type": "code",
      "metadata": {
        "id": "YcvXEEFsD8Pn",
        "colab": {
          "base_uri": "https://localhost:8080/"
        },
        "outputId": "2822228c-882e-40b6-bec3-19faa53eb9db"
      },
      "source": [
        "def rad_to_def(rad):\r\n",
        "  from math import pi\r\n",
        "  x = (rad * 180)/ pi\r\n",
        "  return x\r\n",
        "rad_to_def(3.2)"
      ],
      "execution_count": null,
      "outputs": [
        {
          "output_type": "execute_result",
          "data": {
            "text/plain": [
              "183.34649444186343"
            ]
          },
          "metadata": {
            "tags": []
          },
          "execution_count": 36
        }
      ]
    },
    {
      "cell_type": "code",
      "metadata": {
        "colab": {
          "base_uri": "https://localhost:8080/"
        },
        "id": "PuvOhUlLQusm",
        "outputId": "3c3c6183-9e1f-4b81-d88c-c717dfa225ba"
      },
      "source": [
        "def discriminant(a, b, c):\r\n",
        "  d = b**2 - 4 * a * c\r\n",
        "  return d\r\n",
        "discriminant(1, -1, 2)\r\n"
      ],
      "execution_count": null,
      "outputs": [
        {
          "output_type": "execute_result",
          "data": {
            "text/plain": [
              "-7"
            ]
          },
          "metadata": {
            "tags": []
          },
          "execution_count": 9
        }
      ]
    },
    {
      "cell_type": "code",
      "metadata": {
        "colab": {
          "base_uri": "https://localhost:8080/"
        },
        "id": "1RDQk_q4SzYW",
        "outputId": "66812c9f-2e5c-49e7-96eb-d152c0d269c0"
      },
      "source": [
        "def power_base_sum(a, b):\r\n",
        "  t = sum([int(i) for i in str(a ** b)])\r\n",
        "  return t\r\n",
        "power_base_sum(2, 100)"
      ],
      "execution_count": null,
      "outputs": [
        {
          "output_type": "execute_result",
          "data": {
            "text/plain": [
              "115"
            ]
          },
          "metadata": {
            "tags": []
          },
          "execution_count": 25
        }
      ]
    },
    {
      "cell_type": "code",
      "metadata": {
        "colab": {
          "base_uri": "https://localhost:8080/"
        },
        "id": "H2xsGdvRVkti",
        "outputId": "b4ac8761-2228-437e-9025-f2a5447faa47"
      },
      "source": [
        "def magic_square(n):\r\n",
        "  import numpy\r\n",
        "  first = (n-1)/2\r\n",
        "  mat = numpy.zeros([n,n])\r\n",
        "  for i in range(n):\r\n",
        "      mat[i][i] = first\r\n",
        "      for j in range(n):\r\n",
        "          if j < first:\r\n",
        "              if i + j + 1 < n:\r\n",
        "                  mat[i][i + j + 1] = j\r\n",
        "              else:\r\n",
        "                  mat[i][i + j + 1 - n] = j\r\n",
        "          else:\r\n",
        "              if j != first:\r\n",
        "                  if j + i < n:\r\n",
        "                      mat[i][i+j] = j\r\n",
        "                  else:\r\n",
        "                      mat[i][i+j-n] = j\r\n",
        "              else:\r\n",
        "                  pass\r\n",
        "\r\n",
        "  mat1=numpy.zeros([n,n])\r\n",
        "  for i in range(n):\r\n",
        "      for j in range(n):\r\n",
        "          mat1[i][j]=mat[i][j]*n+mat[i][n-1-j]+1\r\n",
        "  return mat1\r\n",
        "magic_square(5)"
      ],
      "execution_count": 43,
      "outputs": [
        {
          "output_type": "execute_result",
          "data": {
            "text/plain": [
              "array([[15.,  4.,  7., 16., 23.],\n",
              "       [24., 12.,  1.,  8., 20.],\n",
              "       [17., 21., 13.,  5.,  9.],\n",
              "       [ 6., 18., 25., 14.,  2.],\n",
              "       [ 3., 10., 19., 22., 11.]])"
            ]
          },
          "metadata": {
            "tags": []
          },
          "execution_count": 43
        }
      ]
    },
    {
      "cell_type": "code",
      "metadata": {
        "colab": {
          "base_uri": "https://localhost:8080/"
        },
        "id": "6ognRRcLWmvt",
        "outputId": "2df41015-de33-4b90-bca0-5063cf81ef93"
      },
      "source": [
        "def mult_list(somelist):\r\n",
        "  x = 1\r\n",
        "  for i in somelist:\r\n",
        "    x *= i\r\n",
        "  return x\r\n",
        "mult_list([1,2,3])\r\n"
      ],
      "execution_count": null,
      "outputs": [
        {
          "output_type": "execute_result",
          "data": {
            "text/plain": [
              "6"
            ]
          },
          "metadata": {
            "tags": []
          },
          "execution_count": 32
        }
      ]
    },
    {
      "cell_type": "code",
      "metadata": {
        "colab": {
          "base_uri": "https://localhost:8080/"
        },
        "id": "JfdPMRmIY0p0",
        "outputId": "626b74cb-0325-4453-b988-1b42237b60b7"
      },
      "source": [
        "def create_list():\r\n",
        "  x = [i ** 2 for i in range(1, 31)]\r\n",
        "  print(x)\r\n",
        "create_list()"
      ],
      "execution_count": null,
      "outputs": [
        {
          "output_type": "stream",
          "text": [
            "[1, 4, 9, 16, 25, 36, 49, 64, 81, 100, 121, 144, 169, 196, 225, 256, 289, 324, 361, 400, 441, 484, 529, 576, 625, 676, 729, 784, 841, 900]\n"
          ],
          "name": "stdout"
        }
      ]
    },
    {
      "cell_type": "code",
      "metadata": {
        "colab": {
          "base_uri": "https://localhost:8080/"
        },
        "id": "8tCHWkvmaS_b",
        "outputId": "563beb64-47de-486c-a888-74a21e65abb4"
      },
      "source": [
        "%%writefile my_math_lib.py\r\n",
        "\r\n",
        "def deg_to_rad(grad):\r\n",
        "  from math import pi\r\n",
        "  x = (grad * pi)/ 180\r\n",
        "  return x\r\n",
        "\r\n",
        "def rad_to_def(rad):\r\n",
        "  from math import pi\r\n",
        "  x = (rad * 180)/ pi\r\n",
        "  return x\r\n",
        "\r\n",
        "def discriminant(a, b, c):\r\n",
        "  d = b**2 - 4 * a * c\r\n",
        "  return d\r\n",
        "\r\n",
        "def power_base_sum(a, b):\r\n",
        "  t = sum([int(i) for i in str(a ** b)])\r\n",
        "  return t\r\n",
        "\r\n",
        "def magic_square(n):\r\n",
        "  import numpy\r\n",
        "  first = (n-1)/2\r\n",
        "  mat = numpy.zeros([n,n])\r\n",
        "  for i in range(n):\r\n",
        "      mat[i][i] = first\r\n",
        "      for j in range(n):\r\n",
        "          if j < first:\r\n",
        "              if i + j + 1 < n:\r\n",
        "                  mat[i][i + j + 1] = j\r\n",
        "              else:\r\n",
        "                  mat[i][i + j + 1 - n] = j\r\n",
        "          else:\r\n",
        "              if j != first:\r\n",
        "                  if j + i < n:\r\n",
        "                      mat[i][i+j] = j\r\n",
        "                  else:\r\n",
        "                      mat[i][i+j-n] = j\r\n",
        "              else:\r\n",
        "                  pass\r\n",
        "\r\n",
        "  mat1=numpy.zeros([n,n])\r\n",
        "  for i in range(n):\r\n",
        "      for j in range(n):\r\n",
        "          mat1[i][j]=mat[i][j]*n+mat[i][n-1-j]+1\r\n",
        "  return mat1\r\n",
        "\r\n",
        "def mult_list(somelist):\r\n",
        "  x = 1\r\n",
        "  for i in somelist:\r\n",
        "    x *= i\r\n",
        "  return x\r\n",
        "\r\n",
        "def create_list():\r\n",
        "  x = [i ** 2 for i in range(1, 31)]\r\n",
        "  print(x)\r\n",
        "\r\n",
        "\r\n"
      ],
      "execution_count": 44,
      "outputs": [
        {
          "output_type": "stream",
          "text": [
            "Overwriting my_math_lib.py\n"
          ],
          "name": "stdout"
        }
      ]
    },
    {
      "cell_type": "markdown",
      "metadata": {
        "id": "cSdLK3ZSID3B"
      },
      "source": [
        "# **Задание 2**\n",
        "Импортируйте все методы из модуля my_math_lib.\n",
        "\n",
        " **0.25 point** \n",
        " - при помощи функции **def discriminant()** посчитайте дискриминант следующего уравнения: \n",
        " $x^{2}+3 x+4=0$\n",
        "\n",
        "**0.25 point** \n",
        " - постройте магический квадрат размера 5х5"
      ]
    },
    {
      "cell_type": "code",
      "metadata": {
        "id": "k1Jhjs6FD8Sy",
        "colab": {
          "base_uri": "https://localhost:8080/"
        },
        "outputId": "400a4701-636b-4847-c9d2-2f051a5813f1"
      },
      "source": [
        "from my_math_lib import *\r\n",
        "discriminant(1, 3, 4)"
      ],
      "execution_count": 49,
      "outputs": [
        {
          "output_type": "execute_result",
          "data": {
            "text/plain": [
              "-7"
            ]
          },
          "metadata": {
            "tags": []
          },
          "execution_count": 49
        }
      ]
    },
    {
      "cell_type": "code",
      "metadata": {
        "id": "zjQVS7m8uj4J",
        "colab": {
          "base_uri": "https://localhost:8080/"
        },
        "outputId": "cf709cf8-a27d-488e-8b6d-4e77ca82f706"
      },
      "source": [
        " magic_square(6)"
      ],
      "execution_count": 50,
      "outputs": [
        {
          "output_type": "execute_result",
          "data": {
            "text/plain": [
              "array([[21. ,  5. , 10. , 20. , 25. , 33.5],\n",
              "       [35. , 19. ,  2. ,  7. , 21.5, 30. ],\n",
              "       [28. , 32. , 16. ,  3.5, 12. , 23. ],\n",
              "       [20. , 25. , 33.5, 21. ,  5. , 10. ],\n",
              "       [ 7. , 21.5, 30. , 35. , 19. ,  2. ],\n",
              "       [ 3.5, 12. , 23. , 28. , 32. , 16. ]])"
            ]
          },
          "metadata": {
            "tags": []
          },
          "execution_count": 50
        }
      ]
    },
    {
      "cell_type": "code",
      "metadata": {
        "colab": {
          "base_uri": "https://localhost:8080/"
        },
        "id": "OS7JbUikrmOX",
        "outputId": "c56c28ce-dbd1-4cc6-a4e6-71cf450f0f77"
      },
      "source": [
        " magic_square(5)"
      ],
      "execution_count": 51,
      "outputs": [
        {
          "output_type": "execute_result",
          "data": {
            "text/plain": [
              "array([[15.,  4.,  7., 16., 23.],\n",
              "       [24., 12.,  1.,  8., 20.],\n",
              "       [17., 21., 13.,  5.,  9.],\n",
              "       [ 6., 18., 25., 14.,  2.],\n",
              "       [ 3., 10., 19., 22., 11.]])"
            ]
          },
          "metadata": {
            "tags": []
          },
          "execution_count": 51
        }
      ]
    },
    {
      "cell_type": "markdown",
      "metadata": {
        "id": "1xqoQlZkId3s"
      },
      "source": [
        "# **Задание 3**\n",
        "\n",
        "**2 point**\n",
        "* Добавьте в вашу библиотеку конструкцию `if __name__ == \"__main__\"`, которая должна принимать одну из вышеперечисленных функций. \n",
        "* Важно! аргументы, подаваемые в функцию, должны подаваться напряму через терминал (как в примере)! Используйте для этого библиотеку `sys`"
      ]
    },
    {
      "cell_type": "code",
      "metadata": {
        "id": "CPMx4V4DJIVx",
        "colab": {
          "base_uri": "https://localhost:8080/"
        },
        "outputId": "17242ef7-48db-45b5-b050-fed982abc077"
      },
      "source": [
        "%%writefile my_math_lib.py\r\n",
        "import sys\r\n",
        "\r\n",
        "def deg_to_rad(grad):\r\n",
        "  from math import pi\r\n",
        "  x = (grad * pi)/ 180\r\n",
        "  return x\r\n",
        "\r\n",
        "def rad_to_def(rad):\r\n",
        "  from math import pi\r\n",
        "  x = (rad * 180)/ pi\r\n",
        "  return x\r\n",
        "\r\n",
        "def discriminant(a, b, c):\r\n",
        "  d = b**2 - 4 * a * c\r\n",
        "  return d\r\n",
        "\r\n",
        "def power_base_sum(a, b):\r\n",
        "  t = sum([int(i) for i in str(a ** b)])\r\n",
        "  return t\r\n",
        "\r\n",
        "def magic_square(n):\r\n",
        "  import numpy\r\n",
        "  first = (n-1)/2\r\n",
        "  mat = numpy.zeros([n,n])\r\n",
        "  for i in range(n):\r\n",
        "      mat[i][i] = first\r\n",
        "      for j in range(n):\r\n",
        "          if j < first:\r\n",
        "              if i + j + 1 < n:\r\n",
        "                  mat[i][i + j + 1] = j\r\n",
        "              else:\r\n",
        "                  mat[i][i + j + 1 - n] = j\r\n",
        "          else:\r\n",
        "              if j != first:\r\n",
        "                  if j + i < n:\r\n",
        "                      mat[i][i+j] = j\r\n",
        "                  else:\r\n",
        "                      mat[i][i+j-n] = j\r\n",
        "              else:\r\n",
        "                  pass\r\n",
        "\r\n",
        "  mat1=numpy.zeros([n,n])\r\n",
        "  for i in range(n):\r\n",
        "      for j in range(n):\r\n",
        "          mat1[i][j]=mat[i][j]*n+mat[i][n-1-j]+1\r\n",
        "  return mat1\r\n",
        "\r\n",
        "def mult_list(somelist):\r\n",
        "  x = 1\r\n",
        "  for i in somelist:\r\n",
        "    x *= i\r\n",
        "  return x\r\n",
        "\r\n",
        "def create_list():\r\n",
        "  x = [i ** 2 for i in range(1, 31)]\r\n",
        "  print(x)\r\n",
        "\r\n",
        "n = int(sys.argv[1])\r\n",
        "\r\n",
        "if __name__ == \"__main__\":\r\n",
        "    print(magic_square(n))"
      ],
      "execution_count": 54,
      "outputs": [
        {
          "output_type": "stream",
          "text": [
            "Overwriting my_math_lib.py\n"
          ],
          "name": "stdout"
        }
      ]
    },
    {
      "cell_type": "code",
      "metadata": {
        "id": "RAeJ3p1BJX05",
        "colab": {
          "base_uri": "https://localhost:8080/"
        },
        "outputId": "ac16134b-2f10-4ea8-fc3f-7e0032ffe9dc"
      },
      "source": [
        "# Пример вызова функции - Вы можете вызвать любую другую\n",
        "!python3 my_math_lib.py 5 # Например если в __main__ вы указали def discriminant()"
      ],
      "execution_count": 55,
      "outputs": [
        {
          "output_type": "stream",
          "text": [
            "[[15.  4.  7. 16. 23.]\n",
            " [24. 12.  1.  8. 20.]\n",
            " [17. 21. 13.  5.  9.]\n",
            " [ 6. 18. 25. 14.  2.]\n",
            " [ 3. 10. 19. 22. 11.]]\n"
          ],
          "name": "stdout"
        }
      ]
    },
    {
      "cell_type": "code",
      "metadata": {
        "id": "UDQ_wTJbJAS7"
      },
      "source": [
        ""
      ],
      "execution_count": null,
      "outputs": []
    }
  ]
}